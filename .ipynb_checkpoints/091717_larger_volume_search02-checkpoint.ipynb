{
 "cells": [
  {
   "cell_type": "code",
   "execution_count": 1,
   "metadata": {
    "collapsed": true
   },
   "outputs": [],
   "source": [
    "import numpy as np\n",
    "import matplotlib.pyplot as plt\n",
    "\n",
    "%config InlineBackend.figure_format='retina'"
   ]
  },
  {
   "cell_type": "code",
   "execution_count": 2,
   "metadata": {
    "collapsed": true
   },
   "outputs": [],
   "source": [
    "f = np.load('090817_larger_volume_search.npz')"
   ]
  },
  {
   "cell_type": "code",
   "execution_count": 3,
   "metadata": {
    "collapsed": true
   },
   "outputs": [],
   "source": [
    "rp_ds = f['rp'][0]\n",
    "rp_wp = np.logspace(-1, np.log10(500)-1, 20)\n",
    "rp_wp = (rp_wp[:-1] + rp_wp[1:])/2."
   ]
  },
  {
   "cell_type": "code",
   "execution_count": 4,
   "metadata": {
    "collapsed": false
   },
   "outputs": [
    {
     "data": {
      "text/plain": [
       "array([  0.11934594,   0.16552314,   0.22956716,   0.31839103,\n",
       "         0.44158252,   0.61243912,   0.84940336,   1.17805354,\n",
       "         1.63386467,   2.26603772,   3.14281045,   4.35882307,\n",
       "         6.04533391,   8.3843876 ,  11.62846526,  16.12773774,\n",
       "        22.36786359,  31.02241179,  43.02556789])"
      ]
     },
     "execution_count": 4,
     "metadata": {},
     "output_type": "execute_result"
    }
   ],
   "source": [
    "rp_wp"
   ]
  },
  {
   "cell_type": "code",
   "execution_count": 5,
   "metadata": {
    "collapsed": true
   },
   "outputs": [],
   "source": [
    "f00 = np.load('090417_wp_ggl_Reid_wo.npz')"
   ]
  },
  {
   "cell_type": "code",
   "execution_count": 6,
   "metadata": {
    "collapsed": false
   },
   "outputs": [
    {
     "data": {
      "text/plain": [
       "['ngals', 'wprp', 'rp', 'deltasigma', 'param']"
      ]
     },
     "execution_count": 6,
     "metadata": {},
     "output_type": "execute_result"
    }
   ],
   "source": [
    "f00.keys()"
   ]
  },
  {
   "cell_type": "code",
   "execution_count": 7,
   "metadata": {
    "collapsed": false
   },
   "outputs": [],
   "source": [
    "wp_Reid_wo = np.mean(f00['wprp'][:,:],axis=0)"
   ]
  },
  {
   "cell_type": "code",
   "execution_count": 8,
   "metadata": {
    "collapsed": true
   },
   "outputs": [],
   "source": [
    "ds_Reid_wo = np.mean(f00['deltasigma'],axis=0)"
   ]
  },
  {
   "cell_type": "code",
   "execution_count": 9,
   "metadata": {
    "collapsed": true
   },
   "outputs": [],
   "source": [
    "wp_lower = wp_Reid_wo*0.75\n",
    "wp_upper = wp_Reid_wo*1.25"
   ]
  },
  {
   "cell_type": "code",
   "execution_count": 10,
   "metadata": {
    "collapsed": true
   },
   "outputs": [],
   "source": [
    "idxlist = []"
   ]
  },
  {
   "cell_type": "code",
   "execution_count": 11,
   "metadata": {
    "collapsed": false
   },
   "outputs": [],
   "source": [
    "for j,wp in enumerate(f['wprp'][:,:]):\n",
    "    if all(wp>wp_lower) and all(wp<wp_upper):\n",
    "        idxlist.append(j)"
   ]
  },
  {
   "cell_type": "code",
   "execution_count": 12,
   "metadata": {
    "collapsed": false
   },
   "outputs": [],
   "source": [
    "idxlist = np.array(idxlist)"
   ]
  },
  {
   "cell_type": "code",
   "execution_count": 13,
   "metadata": {
    "collapsed": false
   },
   "outputs": [
    {
     "data": {
      "text/plain": [
       "80"
      ]
     },
     "execution_count": 13,
     "metadata": {},
     "output_type": "execute_result"
    }
   ],
   "source": [
    "idxlist.size"
   ]
  },
  {
   "cell_type": "code",
   "execution_count": 15,
   "metadata": {
    "collapsed": false
   },
   "outputs": [],
   "source": [
    "plt.ion()\n",
    "plt.figure()\n",
    "plt.loglog()\n",
    "for i in idxlist:\n",
    "    plt.plot(rp_wp,f['wprp'][i],'r')\n",
    "#    plt.xlabel('r/Mpc')\n",
    "#    plt.ylabel(r'$\\Delta\\Sigma$')\n",
    "plt.plot(rp_wp,wp_Reid_wo,'k')\n",
    "plt.show()"
   ]
  },
  {
   "cell_type": "code",
   "execution_count": 16,
   "metadata": {
    "collapsed": false,
    "scrolled": false
   },
   "outputs": [],
   "source": [
    "plt.figure()\n",
    "plt.loglog()\n",
    "for i in idxlist:\n",
    "    plt.plot(rp_ds,f['deltasigma'][i],'r')\n",
    "plt.plot(rp_ds,ds_Reid_wo,'k')\n",
    "plt.plot(rp_ds,ds_Reid_wo*0.7,'b')\n",
    "plt.plot(rp_ds,ds_Reid_wo*0.85,'g')\n",
    "plt.show()"
   ]
  },
  {
   "cell_type": "code",
   "execution_count": 18,
   "metadata": {
    "collapsed": true
   },
   "outputs": [],
   "source": [
    "plt.ioff()"
   ]
  },
  {
   "cell_type": "code",
   "execution_count": null,
   "metadata": {
    "collapsed": false,
    "scrolled": false
   },
   "outputs": [],
   "source": [
    "for i in idxlist:\n",
    "    wp = f['wprp'][i]\n",
    "    ds = f['deltasigma'][i]\n",
    "    plt.figure()\n",
    "    plt.title('{}'.format(i))\n",
    "    plt.plot(rp_wp,wp/wp_Reid_wo,label='wp ratio')\n",
    "    plt.plot(rp_ds,ds/ds_Reid_wo,label='delta sigma ratio')\n",
    "    plt.semilogx()\n",
    "    plt.legend()\n",
    "    plt.axhline(1,0,1,c='k')\n",
    "    plt.ylim((0.75,1.25))\n",
    "    plt.savefig('larger_volume_search01/{}'.format(i))"
   ]
  },
  {
   "cell_type": "code",
   "execution_count": null,
   "metadata": {
    "collapsed": true
   },
   "outputs": [],
   "source": []
  }
 ],
 "metadata": {
  "kernelspec": {
   "display_name": "Python 2",
   "language": "python",
   "name": "python2"
  },
  "language_info": {
   "codemirror_mode": {
    "name": "ipython",
    "version": 2
   },
   "file_extension": ".py",
   "mimetype": "text/x-python",
   "name": "python",
   "nbconvert_exporter": "python",
   "pygments_lexer": "ipython2",
   "version": "2.7.12"
  }
 },
 "nbformat": 4,
 "nbformat_minor": 0
}
